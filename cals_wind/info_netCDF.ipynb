{
 "cells": [
  {
   "cell_type": "code",
   "execution_count": 2,
   "metadata": {},
   "outputs": [
    {
     "name": "stdout",
     "output_type": "stream",
     "text": [
      "/Users/nikolayborovets/Desktop/FALT_MIPT/FloatingUniversity/offshore_energy_calculation/data/ERA5_uv10m_Kaliningrad_wo29feb_daily.nc\n",
      "dict_keys(['lat', 'lon', 'time', 'ucomp10', 'vcomp10'])\n",
      "<class 'netCDF4._netCDF4.Variable'>\n",
      "float32 time(time)\n",
      "    standard_name: time\n",
      "    long_name: time\n",
      "    units: hours since 0001-01-01 00:00:00\n",
      "    calendar: 365_day\n",
      "    axis: T\n",
      "unlimited dimensions: \n",
      "current shape = (16060,)\n",
      "filling on, default _FillValue of 9.969209968386869e+36 used \n",
      "\n",
      "[17.   17.25 17.5  17.75 18.   18.25 18.5  18.75 19.   19.25 19.5  19.75\n",
      " 20.   20.25 20.5  20.75 21.   21.25 21.5  21.75 22.   22.25 22.5  22.75\n",
      " 23.   23.25 23.5  23.75 24.  ]\n",
      "[56.   55.75 55.5  55.25 55.   54.75 54.5  54.25 54.  ]\n"
     ]
    }
   ],
   "source": [
    "from netCDF4 import Dataset\n",
    "import numpy as np\n",
    "import os\n",
    "\n",
    "path = os.getcwd()\n",
    "new_path = os.path.dirname(path)\n",
    "\n",
    "in_file=new_path + '/data/' + 'ERA5_uv10m_Kaliningrad_wo29feb_daily.nc'\n",
    "print(in_file)\n",
    "\n",
    "\n",
    "# Reading in the netCDF file \n",
    "data = Dataset(in_file, 'r')\n",
    "\n",
    "# Displaying the names of the variables\n",
    "print(data.variables.keys())\n",
    "\n",
    "# Accessing the variables\n",
    "# lon = data.variables['lon']\n",
    "# print(lon, '\\n')\n",
    "\n",
    "# lat = data.variables['lat']\n",
    "# print(lat, '\\n')\n",
    "\n",
    "time = data.variables['time']\n",
    "print(time, '\\n')\n",
    "\n",
    "# ucomp10 = data.variables['ucomp10']\n",
    "# print(ucomp10, '\\n')\n",
    "\n",
    "# vcomp10 = data.variables['vcomp10']\n",
    "# print(vcomp10, '\\n')\n",
    "\n",
    "\n",
    "# # Accessing the data from the variables\n",
    "# ucomp10_data = data.variables['ucomp10'][:]\n",
    "# print(ucomp10_data)\n",
    " \n",
    "# time_data = data.variables['time'][:]\n",
    "# print(time_data)\n",
    "\n",
    "lon_data = data.variables['lon'][:]\n",
    "print(lon_data)\n",
    "\n",
    "lat_data = data.variables['lat'][:]\n",
    "print(lat_data)"
   ]
  },
  {
   "cell_type": "code",
   "execution_count": null,
   "metadata": {},
   "outputs": [],
   "source": []
  }
 ],
 "metadata": {
  "kernelspec": {
   "display_name": "Python 3",
   "language": "python",
   "name": "python3"
  },
  "language_info": {
   "codemirror_mode": {
    "name": "ipython",
    "version": 3
   },
   "file_extension": ".py",
   "mimetype": "text/x-python",
   "name": "python",
   "nbconvert_exporter": "python",
   "pygments_lexer": "ipython3",
   "version": "3.9.6"
  }
 },
 "nbformat": 4,
 "nbformat_minor": 2
}
